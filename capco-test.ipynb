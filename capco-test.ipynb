{
 "cells": [
  {
   "cell_type": "code",
   "execution_count": 1,
   "id": "79add8ce",
   "metadata": {
    "_cell_guid": "b1076dfc-b9ad-4769-8c92-a6c4dae69d19",
    "_uuid": "8f2839f25d086af736a60e9eeb907d3b93b6e0e5",
    "execution": {
     "iopub.execute_input": "2023-04-26T05:53:40.029011Z",
     "iopub.status.busy": "2023-04-26T05:53:40.028055Z",
     "iopub.status.idle": "2023-04-26T05:53:40.042665Z",
     "shell.execute_reply": "2023-04-26T05:53:40.041696Z"
    },
    "papermill": {
     "duration": 0.023037,
     "end_time": "2023-04-26T05:53:40.045373",
     "exception": false,
     "start_time": "2023-04-26T05:53:40.022336",
     "status": "completed"
    },
    "tags": []
   },
   "outputs": [],
   "source": [
    "import numpy as np \n",
    "\n",
    "def targetSum(nums, target):\n",
    "    for i in range(len(nums)):\n",
    "        for j in range(len(nums)):\n",
    "            if nums[i]+nums[j] == target:\n",
    "                return i + j"
   ]
  },
  {
   "cell_type": "code",
   "execution_count": 2,
   "id": "a2b7efc9",
   "metadata": {
    "execution": {
     "iopub.execute_input": "2023-04-26T05:53:40.051532Z",
     "iopub.status.busy": "2023-04-26T05:53:40.050728Z",
     "iopub.status.idle": "2023-04-26T05:53:40.057651Z",
     "shell.execute_reply": "2023-04-26T05:53:40.056395Z"
    },
    "papermill": {
     "duration": 0.012571,
     "end_time": "2023-04-26T05:53:40.060101",
     "exception": false,
     "start_time": "2023-04-26T05:53:40.047530",
     "status": "completed"
    },
    "tags": []
   },
   "outputs": [
    {
     "name": "stdout",
     "output_type": "stream",
     "text": [
      "3\n"
     ]
    }
   ],
   "source": [
    "nums = [1,3,4,5]\n",
    "target = 7\n",
    "\n",
    "print(targetSum(nums, target))"
   ]
  },
  {
   "cell_type": "code",
   "execution_count": null,
   "id": "b35ec777",
   "metadata": {
    "papermill": {
     "duration": 0.00156,
     "end_time": "2023-04-26T05:53:40.063717",
     "exception": false,
     "start_time": "2023-04-26T05:53:40.062157",
     "status": "completed"
    },
    "tags": []
   },
   "outputs": [],
   "source": []
  }
 ],
 "metadata": {
  "kernelspec": {
   "display_name": "Python 3",
   "language": "python",
   "name": "python3"
  },
  "language_info": {
   "codemirror_mode": {
    "name": "ipython",
    "version": 3
   },
   "file_extension": ".py",
   "mimetype": "text/x-python",
   "name": "python",
   "nbconvert_exporter": "python",
   "pygments_lexer": "ipython3",
   "version": "3.7.12"
  },
  "papermill": {
   "default_parameters": {},
   "duration": 10.790177,
   "end_time": "2023-04-26T05:53:40.787458",
   "environment_variables": {},
   "exception": null,
   "input_path": "__notebook__.ipynb",
   "output_path": "__notebook__.ipynb",
   "parameters": {},
   "start_time": "2023-04-26T05:53:29.997281",
   "version": "2.4.0"
  }
 },
 "nbformat": 4,
 "nbformat_minor": 5
}
